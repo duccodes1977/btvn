{
 "cells": [
  {
   "cell_type": "code",
   "execution_count": 1,
   "id": "f614b1da-3bef-4441-83dc-30770f3a1f13",
   "metadata": {},
   "outputs": [
    {
     "name": "stdin",
     "output_type": "stream",
     "text": [
      " 3\n"
     ]
    },
    {
     "name": "stdout",
     "output_type": "stream",
     "text": [
      "6\n"
     ]
    }
   ],
   "source": [
    "#bài 1\n",
    "a=int(input())\n",
    "print(a*2)"
   ]
  },
  {
   "cell_type": "code",
   "execution_count": 9,
   "id": "200b9d47-cab1-4f40-bb54-5922e9f02667",
   "metadata": {},
   "outputs": [
    {
     "name": "stdin",
     "output_type": "stream",
     "text": [
      "nhập chiều rộng: 3\n",
      "nhập chiều dài: 4\n"
     ]
    },
    {
     "name": "stdout",
     "output_type": "stream",
     "text": [
      "diện tích phần còn lại để trồng cây là: 4.93\n"
     ]
    }
   ],
   "source": [
    "a=int(input('nhập chiều rộng:'))\n",
    "b=int(input('nhập chiều dài:'))\n",
    "c=((a*b)-((a/2)**2)*3.14)\n",
    "print(\"diện tích phần còn lại để trồng cây là:\",round(c, 2))"
   ]
  },
  {
   "cell_type": "code",
   "execution_count": 12,
   "id": "51f97c2a-bb90-4261-849d-03ee7415585a",
   "metadata": {},
   "outputs": [
    {
     "name": "stdin",
     "output_type": "stream",
     "text": [
      " f\n"
     ]
    },
    {
     "name": "stdout",
     "output_type": "stream",
     "text": [
      "F\n"
     ]
    }
   ],
   "source": [
    "a=input()\n",
    "print(a.swapcase())"
   ]
  },
  {
   "cell_type": "code",
   "execution_count": 18,
   "id": "e4f46e96-43a8-47a3-adaa-729a89378815",
   "metadata": {},
   "outputs": [
    {
     "name": "stdin",
     "output_type": "stream",
     "text": [
      " t\n"
     ]
    },
    {
     "name": "stdout",
     "output_type": "stream",
     "text": [
      "{'t'} là kí tự alphabet\n"
     ]
    }
   ],
   "source": [
    "a=('abcdefghijklmnopqrstuvwxyzABCDEFGHIJKLMNOPQRSTUVWXYZ')\n",
    "b=input()\n",
    "if b in a:\n",
    "    print({b},'là kí tự alphabet')\n",
    "else:\n",
    "    print({b},'không phải là kí tự alphabet')"
   ]
  },
  {
   "cell_type": "code",
   "execution_count": 19,
   "id": "d6a4e9a9-8c99-458f-a8c9-471ecd34244e",
   "metadata": {},
   "outputs": [
    {
     "name": "stdin",
     "output_type": "stream",
     "text": [
      "Nhập một chữ cái:  c\n"
     ]
    },
    {
     "name": "stdout",
     "output_type": "stream",
     "text": [
      "Chữ thường đứng trước là: b\n"
     ]
    }
   ],
   "source": [
    "a = input(\"Nhập một chữ cái: \")\n",
    "\n",
    "if len(a) == 1 and a.isalpha():\n",
    "    a = a.lower() \n",
    "    if a == 'a':\n",
    "        print(\"đặc biệt\")\n",
    "    else:\n",
    "        b = chr(ord(a) - 1)\n",
    "        print(b)"
   ]
  },
  {
   "cell_type": "code",
   "execution_count": 23,
   "id": "2869e29f-4c3d-4caf-afa1-aff9f3d842df",
   "metadata": {},
   "outputs": [
    {
     "name": "stdin",
     "output_type": "stream",
     "text": [
      " 3\n",
      " 2\n",
      " 4\n"
     ]
    },
    {
     "name": "stdout",
     "output_type": "stream",
     "text": [
      "diện tích tam giác là 4.5\n"
     ]
    }
   ],
   "source": [
    "a=int(input())\n",
    "b=int(input())\n",
    "c=int(input())\n",
    "p=(a+b+c)/2\n",
    "d=(p*(p-a)*(p-b)*(p-c))**(1/2)\n",
    "if a and b and c >=0 and a+b>=c and a+c>=b and b+c>=a:\n",
    "   print('diện tích tam giác là',round(p,1))"
   ]
  },
  {
   "cell_type": "code",
   "execution_count": 2,
   "id": "41eb58dd-40ed-4036-8d8f-0f3b771783e1",
   "metadata": {},
   "outputs": [
    {
     "name": "stdin",
     "output_type": "stream",
     "text": [
      " sdahxdsfghgg\n"
     ]
    },
    {
     "name": "stdout",
     "output_type": "stream",
     "text": [
      "x g\n"
     ]
    }
   ],
   "source": [
    "line=input()\n",
    "print(line[4],line[8])"
   ]
  },
  {
   "cell_type": "code",
   "execution_count": 24,
   "id": "218029de-e3ac-4067-9c33-b4e207c8a5b8",
   "metadata": {},
   "outputs": [
    {
     "name": "stdin",
     "output_type": "stream",
     "text": [
      "tên chủ hộ: 423\n",
      "chi so thang truoc 243\n",
      "chi so thang nay 456\n"
     ]
    },
    {
     "name": "stdout",
     "output_type": "stream",
     "text": [
      "Họ và tên: 423\n",
      "Tiền phải trả là: 516967\n"
     ]
    }
   ],
   "source": [
    "a=input('tên chủ hộ:')\n",
    "b=int(input('chi so thang truoc'))\n",
    "c=int(input('chi so thang nay'))\n",
    "d=c-b\n",
    "if 0<=d<=50:\n",
    "    g=(d*1984)*1.08\n",
    "elif 51<=d<=100:\n",
    "    g=(50*1984+(d-50)*2050)*1.08\n",
    "elif 101<=d<=200:\n",
    "    g=(50*1984+(50)*2050+(d-100)*2380)*1.08\n",
    "elif 201<=d<=300:\n",
    "    g=(50*1984+(50)*2050+(100)*2380+(d-200)*2998)*1.08\n",
    "elif 301<=d<=400:\n",
    "    g=(50*1984+(50)*2050+(100)*2380+(200)*2998+(d-300)*3350)*1.08\n",
    "elif 401<=d<=500:\n",
    "    g=(50*1984+(50)*2050+(100)*2380+(200)*2998+(300)*3350+(d-400)*3460)*1.08\n",
    "print(f\"Họ và tên: {a}\\nTiền phải trả là: {int(g)}\")"
   ]
  },
  {
   "cell_type": "code",
   "execution_count": null,
   "id": "c03b12fb-8093-489e-9f63-4b1390fc2ce7",
   "metadata": {},
   "outputs": [],
   "source": []
  },
  {
   "cell_type": "code",
   "execution_count": null,
   "id": "c7e40023-9d6e-457a-9fd1-339afa0dcb7d",
   "metadata": {},
   "outputs": [],
   "source": []
  }
 ],
 "metadata": {
  "kernelspec": {
   "display_name": "Python 3 (ipykernel)",
   "language": "python",
   "name": "python3"
  },
  "language_info": {
   "codemirror_mode": {
    "name": "ipython",
    "version": 3
   },
   "file_extension": ".py",
   "mimetype": "text/x-python",
   "name": "python",
   "nbconvert_exporter": "python",
   "pygments_lexer": "ipython3",
   "version": "3.13.7"
  }
 },
 "nbformat": 4,
 "nbformat_minor": 5
}
