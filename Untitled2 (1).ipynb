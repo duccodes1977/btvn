{
 "cells": [
  {
   "cell_type": "code",
   "execution_count": 20,
   "id": "5e30e12a-0b5e-40cb-b3ea-b4ee280d834e",
   "metadata": {},
   "outputs": [
    {
     "name": "stdin",
     "output_type": "stream",
     "text": [
      " fdyuesgfdhyi8w7349rfyh9owsweugt\n"
     ]
    },
    {
     "name": "stdout",
     "output_type": "stream",
     "text": [
      "e d\n"
     ]
    }
   ],
   "source": [
    "line=input()\n",
    "print(line[4],line[8])\n",
    "    \n",
    " "
   ]
  },
  {
   "cell_type": "code",
   "execution_count": 36,
   "id": "ef434b20-83fb-4422-9285-9a11d86fcb33",
   "metadata": {
    "scrolled": true
   },
   "outputs": [
    {
     "name": "stdin",
     "output_type": "stream",
     "text": [
      "tên chủ hộ: 2\n",
      "chi so thang truoc 3\n",
      "chi so thang nay 5\n"
     ]
    },
    {
     "name": "stdout",
     "output_type": "stream",
     "text": [
      "Họ và tên: 2\n",
      "Tiền phải trả là: 4285\n"
     ]
    }
   ],
   "source": [
    "a=input('tên chủ hộ:')\n",
    "b=int(input('chi so thang truoc'))\n",
    "c=int(input('chi so thang nay'))\n",
    "d=c-b\n",
    "if 0<=d<=50:\n",
    "    g=(d*1984)*1.08\n",
    "elif 51<=d<=100:\n",
    "    g=(50*1984+(d-50)*2050)*1.08\n",
    "elif 101<=d<=200:\n",
    "    g=(50*1984+(50)*2050+(d-100)*2380)*1.08\n",
    "elif 201<=d<=300:\n",
    "    g=(50*1984+(50)*2050+(100)*2380+(d-200)*2998)*1.08\n",
    "elif 301<=d<=400:\n",
    "    g=(50*1984+(50)*2050+(100)*2380+(200)*2998+(d-300)*3350)*1.08\n",
    "elif 401<=d<=500:\n",
    "    g=(50*1984+(50)*2050+(100)*2380+(200)*2998+(300)*3350+(d-400)*3460)*1.08\n",
    "print(f\"Họ và tên: {a}\\nTiền phải trả là: {int(g)}\")\n"
   ]
  },
  {
   "cell_type": "code",
   "execution_count": null,
   "id": "4b67ed3f-6c9a-4666-a432-9a63126cb522",
   "metadata": {},
   "outputs": [],
   "source": []
  }
 ],
 "metadata": {
  "kernelspec": {
   "display_name": "Python 3 (ipykernel)",
   "language": "python",
   "name": "python3"
  },
  "language_info": {
   "codemirror_mode": {
    "name": "ipython",
    "version": 3
   },
   "file_extension": ".py",
   "mimetype": "text/x-python",
   "name": "python",
   "nbconvert_exporter": "python",
   "pygments_lexer": "ipython3",
   "version": "3.13.7"
  }
 },
 "nbformat": 4,
 "nbformat_minor": 5
}
