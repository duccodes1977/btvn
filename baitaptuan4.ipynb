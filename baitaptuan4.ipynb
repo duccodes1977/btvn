{
 "cells": [
  {
   "cell_type": "code",
   "execution_count": 4,
   "id": "676067a0-a2c0-4694-89e0-d627f386a6cf",
   "metadata": {},
   "outputs": [
    {
     "name": "stdin",
     "output_type": "stream",
     "text": [
      " 6\n"
     ]
    },
    {
     "name": "stdout",
     "output_type": "stream",
     "text": [
      "6 ! = 720\n"
     ]
    }
   ],
   "source": [
    "n = int(input())\n",
    "\n",
    "if n < 0:\n",
    "    print(\"số âm\")\n",
    "else:\n",
    "    giai_thua = 1\n",
    "    for i in range(1, n + 1):\n",
    "        giai_thua *= i\n",
    "    print(n, \"!\", \"=\", giai_thua)\n",
    "\n"
   ]
  },
  {
   "cell_type": "code",
   "execution_count": 8,
   "id": "abb5a68d-b4c7-40d0-aaae-959f09055304",
   "metadata": {},
   "outputs": [
    {
     "name": "stdin",
     "output_type": "stream",
     "text": [
      " 345676543\n"
     ]
    },
    {
     "name": "stdout",
     "output_type": "stream",
     "text": [
      "Số chữ số là: 9\n"
     ]
    }
   ],
   "source": [
    "n = int(input())\n",
    "num = abs(n)\n",
    "if num == 0:\n",
    "    print(\"Số chữ số là: 1\")\n",
    "else:\n",
    "    a = 0\n",
    "    for _ in range(100):\n",
    "        if num == 0:\n",
    "            break\n",
    "        num = num // 10\n",
    "        a += 1\n",
    "    print(\"Số chữ số là:\", a)"
   ]
  },
  {
   "cell_type": "code",
   "execution_count": 31,
   "id": "7be54e2b-ca6a-4447-b8b9-84023b1a578a",
   "metadata": {},
   "outputs": [
    {
     "name": "stdin",
     "output_type": "stream",
     "text": [
      "a:  5678\n",
      "b:  849604\n"
     ]
    },
    {
     "name": "stdout",
     "output_type": "stream",
     "text": [
      "27465758310\n"
     ]
    }
   ],
   "source": [
    "a = int(input(\"a: \"))\n",
    "b = int(input(\"b: \"))\n",
    "\n",
    "tong = 0\n",
    "for n in range(a, b+1):\n",
    "    for i in range(2,int(n**0.5)+1):\n",
    "        if n % i == 0:\n",
    "            break\n",
    "    else:\n",
    "        tong += n\n",
    "\n",
    "print(tong)"
   ]
  },
  {
   "cell_type": "code",
   "execution_count": 30,
   "id": "daf8114c-aae9-4b59-9d27-fda028f5b61a",
   "metadata": {},
   "outputs": [
    {
     "name": "stdin",
     "output_type": "stream",
     "text": [
      " 756\n"
     ]
    },
    {
     "name": "stdout",
     "output_type": "stream",
     "text": [
      "378\n"
     ]
    }
   ],
   "source": [
    "n=int(input())\n",
    "for i in range((n+1)//2,2,-1):\n",
    "     if n%i==0:\n",
    "       print(i)\n",
    "       break"
   ]
  },
  {
   "cell_type": "code",
   "execution_count": 51,
   "id": "d5476d1f-6b40-4d5b-9b90-e4bfd8337f9b",
   "metadata": {},
   "outputs": [
    {
     "name": "stdin",
     "output_type": "stream",
     "text": [
      " 56\n",
      " 8\n"
     ]
    },
    {
     "name": "stdout",
     "output_type": "stream",
     "text": [
      "a và b không là số thân thiết\n"
     ]
    }
   ],
   "source": [
    "a = int(input())\n",
    "b = int(input())\n",
    "m=0\n",
    "n=0\n",
    "if a > b:\n",
    "    for c in range(1, (a+1)//2): \n",
    "       m+=c\n",
    "    if m == b: \n",
    "            print('a và b là số thân thiết')\n",
    "    else:\n",
    "            print('a và b không là số thân thiết')\n",
    "if b > a:\n",
    "    for d in range(1, (b+1)//2): \n",
    "       n+=c\n",
    "    if n == b: \n",
    "            print('a và b là số thân thiết')\n",
    "    else:\n",
    "            print('a và b không là số thân thiết')\n"
   ]
  },
  {
   "cell_type": "code",
   "execution_count": 73,
   "id": "db4d7760-560c-4035-8842-de8c221d84d6",
   "metadata": {
    "scrolled": true
   },
   "outputs": [
    {
     "name": "stdin",
     "output_type": "stream",
     "text": [
      "Tổng số con (dau):  36\n",
      "Tổng số chân (chan):  100\n"
     ]
    },
    {
     "name": "stdout",
     "output_type": "stream",
     "text": [
      "Số chó là: 14\n",
      "Số gà là: 22\n"
     ]
    }
   ],
   "source": [
    "dau = int(input('Tổng số con (dau): '))\n",
    "chan = int(input('Tổng số chân (chan): '))\n",
    "for ga in range(dau + 1):  \n",
    "    cho = dau - ga      \n",
    "    if cho * 4 + ga * 2 == chan:\n",
    "        print(\"Số chó là:\", cho)\n",
    "        print(\"Số gà là:\", ga)\n",
    "        break\n",
    "else:\n",
    "    print(\"Không tìm được nghiệm phù hợp\")\n"
   ]
  },
  {
   "cell_type": "code",
   "execution_count": null,
   "id": "3f91dff9-557e-4064-883c-6b11400d3424",
   "metadata": {},
   "outputs": [],
   "source": []
  }
 ],
 "metadata": {
  "kernelspec": {
   "display_name": "Python 3 (ipykernel)",
   "language": "python",
   "name": "python3"
  },
  "language_info": {
   "codemirror_mode": {
    "name": "ipython",
    "version": 3
   },
   "file_extension": ".py",
   "mimetype": "text/x-python",
   "name": "python",
   "nbconvert_exporter": "python",
   "pygments_lexer": "ipython3",
   "version": "3.13.7"
  }
 },
 "nbformat": 4,
 "nbformat_minor": 5
}
